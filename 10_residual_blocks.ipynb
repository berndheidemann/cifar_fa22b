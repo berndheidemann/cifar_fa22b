{
 "cells": [
  {
   "cell_type": "code",
   "execution_count": null,
   "metadata": {
    "collapsed": true
   },
   "outputs": [],
   "source": [
    "# https://www.cs.toronto.edu/~kriz/cifar.html\n",
    "# !wget https://www.cs.toronto.edu/~kriz/cifar-10-python.tar.gz"
   ]
  },
  {
   "cell_type": "code",
   "execution_count": null,
   "metadata": {
    "collapsed": false
   },
   "outputs": [],
   "source": [
    "import torch\n",
    "import torchvision\n",
    "import torchvision.transforms as transforms\n",
    "import matplotlib.pyplot as plt\n",
    "import numpy as np\n",
    "from tqdm.notebook import tqdm\n",
    "\n",
    "\n",
    "def unpickle(file):\n",
    "    import pickle\n",
    "    with open(file, 'rb') as fo:\n",
    "        dict = pickle.load(fo, encoding='bytes')\n",
    "    return dict\n",
    "\n",
    "classes = ('plane', 'car', 'bird', 'cat',\n",
    "           'deer', 'dog', 'frog', 'horse', 'ship', 'truck')\n",
    "\n",
    "def imshow(img):\n",
    "    plt.imshow(np.transpose(img, (1, 2, 0)))\n",
    "    plt.show()"
   ]
  },
  {
   "cell_type": "code",
   "execution_count": null,
   "metadata": {
    "collapsed": false
   },
   "outputs": [],
   "source": [
    "files = unpickle('./data/data_batch_1')\n",
    "files.keys()"
   ]
  },
  {
   "cell_type": "code",
   "execution_count": null,
   "metadata": {
    "collapsed": false
   },
   "outputs": [],
   "source": [
    "data = files[b'data']\n",
    "labels = files[b'labels']"
   ]
  },
  {
   "cell_type": "code",
   "execution_count": null,
   "metadata": {
    "collapsed": false
   },
   "outputs": [],
   "source": [
    "data.shape"
   ]
  },
  {
   "cell_type": "code",
   "execution_count": null,
   "metadata": {
    "collapsed": false
   },
   "outputs": [],
   "source": [
    "data = data.reshape(10000, 3, 32, 32)\n",
    "data.shape"
   ]
  },
  {
   "cell_type": "code",
   "execution_count": null,
   "metadata": {
    "collapsed": false
   },
   "outputs": [],
   "source": [
    "imshow(data[1])"
   ]
  },
  {
   "cell_type": "code",
   "execution_count": null,
   "metadata": {
    "collapsed": false
   },
   "outputs": [],
   "source": [
    "labels[1]"
   ]
  },
  {
   "cell_type": "code",
   "execution_count": null,
   "metadata": {
    "collapsed": false
   },
   "outputs": [],
   "source": [
    "classes[labels[1]]"
   ]
  },
  {
   "cell_type": "code",
   "execution_count": null,
   "metadata": {
    "collapsed": false
   },
   "outputs": [],
   "source": [
    "fig, ax = plt.subplots(2, 5, figsize=(15, 6))\n",
    "idx=0\n",
    "for i in range(2):\n",
    "    for j in range(5):\n",
    "        ax[i, j].imshow(data[idx].transpose(1, 2, 0))\n",
    "        ax[i, j].set_title(classes[labels[idx]])\n",
    "        idx += 1"
   ]
  },
  {
   "cell_type": "code",
   "execution_count": null,
   "metadata": {},
   "outputs": [],
   "source": [
    "import torch\n",
    "\n",
    "class MyDataset(torch.utils.data.Dataset):\n",
    "    def __init__(self, x, y):\n",
    "        self.x=x  \n",
    "        self.y=y\n",
    "\n",
    "    def __len__(self):\n",
    "        return len(self.x)\n",
    "    \n",
    "    def __getitem__(self, idx):\n",
    "        x=self.x[idx]\n",
    "        y=self.y[idx]\n",
    "        y=torch.tensor(y)\n",
    "        x=torch.tensor(x, dtype=torch.float32)\n",
    "        x=x/255.0-0.5\n",
    "        return x, y\n",
    "    \n",
    "dataset_sample=MyDataset(data, labels)\n",
    "x, y=dataset_sample[0]\n",
    "print(\"x.shape:\", x.shape)          # torch.Size([784])\n",
    "print(\"y:\", y)                      # tensor(5)\n",
    "\n",
    "plt.imshow(x.permute(1, 2, 0))\n",
    "plt.axis('off')\n",
    "plt.show()\n",
    "\n"
   ]
  },
  {
   "cell_type": "code",
   "execution_count": null,
   "metadata": {},
   "outputs": [],
   "source": [
    "x"
   ]
  },
  {
   "cell_type": "code",
   "execution_count": null,
   "metadata": {},
   "outputs": [],
   "source": [
    "class ConvBlock(torch.nn.Module):\n",
    "    def __init__(self, in_channels, out_channels):\n",
    "        super().__init__()\n",
    "        self.conv1=torch.nn.Conv2d(in_channels, out_channels, kernel_size=3, stride=1, padding=1)\n",
    "        self.adjust_channels_conv_1=torch.nn.Conv2d(in_channels, out_channels, kernel_size=1, stride=1, padding=0)\n",
    "        self.batch_norm_2d=torch.nn.BatchNorm2d(out_channels)\n",
    "        self.relu=torch.nn.ReLU()\n",
    "        \n",
    "    def forward(self, input):\n",
    "        x=input[0]\n",
    "        identity=input[1]\n",
    "        x=self.conv1(x)\n",
    "        x=self.batch_norm_2d(x)\n",
    "        x=self.relu(x)\n",
    "        identity=self.adjust_channels_conv_1(identity)\n",
    "        x=torch.add(x, identity)\n",
    "        return x, identity\n",
    "    \n",
    "class ConvBlockMaxPool(torch.nn.Module):\n",
    "    def __init__(self, in_channels, out_channels):\n",
    "        super().__init__()\n",
    "        self.conv1=torch.nn.Conv2d(in_channels, out_channels, kernel_size=3, stride=1, padding=1)\n",
    "        self.adjust_channels_conv_1=torch.nn.Conv2d(in_channels, out_channels, kernel_size=1, stride=1, padding=0)\n",
    "        self.batch_norm_2d=torch.nn.BatchNorm2d(out_channels)\n",
    "        self.relu=torch.nn.ReLU()\n",
    "        self.maxpool=torch.nn.MaxPool2d(kernel_size=2, stride=2, padding=0)\n",
    "        \n",
    "    def forward(self, input):\n",
    "        x=input[0]\n",
    "        identity=input[1]\n",
    "        x=self.conv1(x)\n",
    "        x=self.batch_norm_2d(x)\n",
    "        x=self.relu(x)\n",
    "        identity=self.adjust_channels_conv_1(identity)\n",
    "        x=torch.add(x, identity)\n",
    "        x=self.maxpool(x)\n",
    "        identity=self.maxpool(identity)\n",
    "        return x, identity\n",
    "    \n",
    "class DebugLayer(torch.nn.Module):\n",
    "    def __init__(self, text):\n",
    "        super().__init__()\n",
    "        self.text=text\n",
    "        \n",
    "    def forward(self, input):\n",
    "        x=input[0]\n",
    "        identity=input[1]\n",
    "        print(self.text, \"x.shape:\", x.shape)\n",
    "        return x, identity\n",
    "\n",
    "\n",
    "class CifarModel(torch.nn.Module):\n",
    "    def __init__(self, hidden_size=None, dropout=0.4):\n",
    "        super().__init__()\n",
    "        self.conv_layer=torch.nn.Sequential(\n",
    "            ConvBlock(3, 64,),\n",
    "            ConvBlock(64, 64),\n",
    "            ConvBlockMaxPool(64, 128),          # 16x16\n",
    "            ConvBlock(128, 128),\n",
    "            ConvBlockMaxPool(128, 256),         # 8x8\n",
    "            ConvBlock(256, 256),\n",
    "            ConvBlockMaxPool(256, 512),         # 4x4\n",
    "            ConvBlock(512, 512),\n",
    "            ConvBlockMaxPool(512, 1024),         # 2x2\n",
    "        )\n",
    "     \n",
    "        self.conv_size=1024*2*2\n",
    "        self.lin1=torch.nn.Linear(self.conv_size, hidden_size)\n",
    "        self.batch_norm_lin1=torch.nn.BatchNorm1d(hidden_size)\n",
    "        self.lin2=torch.nn.Linear(hidden_size, hidden_size)\n",
    "        self.lin3=torch.nn.Linear(hidden_size, 10)\n",
    "        self.relu=torch.nn.ReLU()                           \n",
    "        self.softmax=torch.nn.Softmax(dim=1)                \n",
    "        self.dropout=torch.nn.Dropout(p=dropout)   \n",
    " \n",
    "    def forward(self, x):\n",
    "        x=x.view(-1, 3, 32, 32)\n",
    "        #print(\"x.shape nach x.view:\", x.shape)\n",
    "        original_x=x.clone()\n",
    "        x, identity=self.conv_layer((x, original_x))\n",
    "        \n",
    "        #print(\"x.shape nach conv:\", x.shape)\n",
    "        # flatten\n",
    "        x=x.view(-1, self.conv_size)\n",
    "        #print(\"x.shape nach x.view:\", x.shape)\n",
    "        x=self.lin1(x)\n",
    "        x=self.batch_norm_lin1(x)\n",
    "        x=self.relu(x)\n",
    "        x=self.dropout(x)\n",
    "        x=self.lin2(x)\n",
    "        x=self.batch_norm_lin1(x)\n",
    "        x=self.relu(x)\n",
    "        x=self.dropout(x)\n",
    "        x=self.lin3(x)\n",
    "        x=self.softmax(x)\n",
    "        #print(\"x.shape nach lin1:\", x.shape)\n",
    "        return x\n",
    "    \n",
    "# wir bauen das Modell\n",
    "model=CifarModel(hidden_size=100)\n",
    "# wir bauen das Dataset\n",
    "dataset_sample=MyDataset(data, labels)\n",
    "# wir bauen den DataLoader\n",
    "loader=torch.utils.data.DataLoader(dataset_sample, batch_size=13, shuffle=True)\n",
    "# ein einziges Batch-Beispiel wird aus dem Dataloader geladen\n",
    "for xb, yb in loader:\n",
    "    print(model(xb).shape)\n",
    "    assert model(xb).shape==torch.Size([13, 10]), \"Error: model(xb).shape!=torch.Size([13, 10])\"\n",
    "    break\n"
   ]
  },
  {
   "cell_type": "code",
   "execution_count": null,
   "metadata": {},
   "outputs": [],
   "source": [
    "from sklearn.model_selection import train_test_split\n",
    "\n",
    "# wir bauen das Dataset\n",
    "# stratify=mnist_trainset.targets sorgt dafür, dass die Klassenverteilung im Trainings- und Validierungsset gleich ist\n",
    "x_train, x_valid, y_train, y_valid = train_test_split(data, labels, test_size=0.2, stratify=labels)\n",
    "train_dataset=MyDataset(x_train, y_train)\n",
    "valid_dataset=MyDataset(x_valid, y_valid)\n"
   ]
  },
  {
   "cell_type": "code",
   "execution_count": null,
   "metadata": {},
   "outputs": [],
   "source": [
    "lr=0.0001\n",
    "batch_size=256\n",
    "epochs=50\n",
    "hidden_size=150\n",
    "\n",
    "if torch.cuda.is_available():\n",
    "    device = torch.device(\"cuda\")\n",
    "elif torch.backends.mps.is_available():\n",
    "    device = torch.device(\"mps\")\n",
    "else:\n",
    "    device = torch.device(\"cpu\")\n",
    "\n",
    "#device=torch.device('cpu')\n",
    "\n",
    "model=CifarModel(hidden_size).to(device)\n",
    "#weight_decay: Hohe Gewichte werden bestraft, um Overfitting zu vermeiden\n",
    "#optimizer=torch.optim.AdamW(model.parameters(), lr=lr, weight_decay=0.0001)\n",
    "#RMSprop: Optimierungsalgorithmus\n",
    "optimizer=torch.optim.RMSprop(model.parameters(), lr=lr, weight_decay=0.0001)\n",
    "# OneCycleLR: Lernrate wird während des Trainings erhöht und dann wieder verringert\n",
    "#scheduler=torch.optim.lr_scheduler.OneCycleLR(optimizer, max_lr=lr, steps_per_epoch=len(train_dataset)//batch_size, epochs=epochs)\n",
    "#other scheduler: https://pytorch.org/docs/stable/optim.html#how-to-adjust-learning-rate\n",
    "\n",
    "scheduler=torch.optim.lr_scheduler.CosineAnnealingLR(optimizer, T_max=epochs, eta_min=0.00001)\n",
    "\n",
    "# CrossEntropyLoss: Klassifikationsproblem mit mehreren Klassen\n",
    "loss_func=torch.nn.CrossEntropyLoss()\n",
    "\n",
    "train_loader=torch.utils.data.DataLoader(train_dataset, batch_size=batch_size, shuffle=True)\n",
    "valid_loader=torch.utils.data.DataLoader(valid_dataset, batch_size=batch_size, shuffle=True)\n",
    "\n",
    "losses=[]\n",
    "valid_losses=[]\n",
    "learning_rates=[]\n",
    "\n",
    "bar=tqdm(range(epochs))\n",
    "for i in bar:\n",
    "    model.train()\n",
    "    epoch_losses=[]\n",
    "    for xb, yb in train_loader:\n",
    "        xb, yb = xb.to(device), yb.to(device)\n",
    "        optimizer.zero_grad()                   # Gradienten (Ableitungen) zurücksetzen\n",
    "        pred=model(xb)                          # Forward-Propagation\n",
    "        loss=loss_func(pred, yb)                # Loss berechnen\n",
    "        loss.backward()                         # ableiten\n",
    "        optimizer.step()                        # Gewichte aktualisieren\n",
    "        epoch_losses.append(loss.item())        # Loss speichern\n",
    "        learning_rates.append(scheduler.get_last_lr()[0])\n",
    "    scheduler.step()\n",
    "\n",
    "    losses.append(sum(epoch_losses)/len(epoch_losses))\n",
    "    valid_losses_epoch=[]\n",
    "    with torch.no_grad():                       # Alles was hier kommt, wird nicht für die Berechnung der Gradienten verwendet\n",
    "        correct = 0\n",
    "        model.eval()\n",
    "        for xb, yb in valid_loader:\n",
    "            xb, yb = xb.to(device), yb.to(device)\n",
    "            pred=model(xb)\n",
    "            loss=loss_func(pred, yb)\n",
    "            valid_losses_epoch.append(loss.item())\n",
    "            correct += (torch.argmax(pred, dim=1) == yb).sum().item()\n",
    "    valid_losses.append(sum(valid_losses_epoch)/len(valid_losses_epoch))\n",
    "    bar.set_postfix({'train_loss': losses[-1], 'valid_loss': valid_losses[-1], 'accuracy': correct/len(valid_dataset), 'lr': scheduler.get_last_lr()[0]})\n",
    "\n",
    "plt.plot(losses, label='train')\n",
    "plt.plot(valid_losses, label='valid')\n",
    "plt.legend()\n",
    "plt.show()\n",
    "correct = 0\n",
    "total = 0\n",
    "\n",
    "# plot learning rates\n",
    "plt.plot(learning_rates)\n",
    "plt.show()\n",
    "\n",
    "\n",
    "with torch.no_grad():\n",
    "    model.eval()\n",
    "    # Schleife über alle Validierungsdaten\n",
    "    for xb, yb in valid_loader:\n",
    "        xb, yb = xb.to(device), yb.to(device)\n",
    "        pred = model(xb)                            # Vorhersage holen\n",
    "        _, predicted = torch.max(pred.data, 1)      # Index des größten Wertes holen\n",
    "        total += yb.size(0)                         # Anzahl der Validierungdaten\n",
    "        correct += (predicted == yb).sum().item()   # predicted und yb vergleichen und Anzahl der richtigen Vorhersagen zählen\n",
    "\n",
    "accuracy = correct / total\n",
    "print(\"Accuracy:\", accuracy)"
   ]
  },
  {
   "cell_type": "code",
   "execution_count": null,
   "metadata": {},
   "outputs": [],
   "source": []
  }
 ],
 "metadata": {
  "kernelspec": {
   "display_name": "Python 3",
   "language": "python",
   "name": "python3"
  },
  "language_info": {
   "codemirror_mode": {
    "name": "ipython",
    "version": 3
   },
   "file_extension": ".py",
   "mimetype": "text/x-python",
   "name": "python",
   "nbconvert_exporter": "python",
   "pygments_lexer": "ipython3",
   "version": "3.10.13"
  }
 },
 "nbformat": 4,
 "nbformat_minor": 0
}
